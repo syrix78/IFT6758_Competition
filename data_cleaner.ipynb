{
 "cells": [
  {
   "cell_type": "markdown",
   "metadata": {
    "id": "Q42JaoS1JVPF"
   },
   "source": [
    "# **Instructions**\n",
    "\n",
    "Pour générer les fichiers train/test, il suffit de changer la valeur des booleens, **de se placer dans cette cellule** et choisir:\n",
    "\n",
    "Execution -> Executer à la suite"
   ]
  },
  {
   "cell_type": "code",
   "execution_count": 1,
   "metadata": {
    "id": "dkw1eziGY4Xi"
   },
   "outputs": [],
   "source": [
    "import numpy as np\n",
    "import pandas as pd\n",
    "import matplotlib.pyplot as plt\n",
    "import seaborn as sns\n",
    "%matplotlib inline\n",
    "\n",
    "from sklearn.preprocessing import LabelEncoder"
   ]
  },
  {
   "cell_type": "code",
   "execution_count": 2,
   "metadata": {
    "id": "Q8QdisuPZGf6"
   },
   "outputs": [],
   "source": [
    "generateTrain = True\n",
    "generateTest = False\n",
    "\n",
    "if generateTrain == generateTest:\n",
    "  print(\"Can't generate both of them at the same time, generating Train..\")\n",
    "  generateTrain = True\n",
    "  generateTest = False\n",
    "\n",
    "if generateTrain :\n",
    "  df_train = pd.read_csv(\"train.csv\")\n",
    "  df_train_copy = df_train.copy()\n",
    "\n",
    "\n",
    "if generateTest :\n",
    "  df_train = pd.read_csv(\"test.csv\")\n",
    "  df_train_copy = df_train.copy()"
   ]
  },
  {
   "cell_type": "code",
   "execution_count": 3,
   "metadata": {
    "colab": {
     "base_uri": "https://localhost:8080/"
    },
    "id": "faSfEeP1ZJ9F",
    "outputId": "df3d05b4-4ce8-418a-9864-5f6b93ef1ba5"
   },
   "outputs": [
    {
     "output_type": "stream",
     "name": "stdout",
     "text": [
      "<class 'pandas.core.frame.DataFrame'>\nRangeIndex: 7500 entries, 0 to 7499\nData columns (total 24 columns):\n #   Column                                       Non-Null Count  Dtype  \n---  ------                                       --------------  -----  \n 0   Id                                           7500 non-null   object \n 1   User Name                                    7500 non-null   object \n 2   Personal URL                                 3256 non-null   object \n 3   Profile Cover Image Status                   7410 non-null   object \n 4   Profile Verification Status                  7500 non-null   object \n 5   Profile Text Color                           7434 non-null   object \n 6   Profile Page Color                           7422 non-null   object \n 7   Profile Theme Color                          7428 non-null   object \n 8   Is Profile View Size Customized?             7500 non-null   bool   \n 9   UTC Offset                                   7014 non-null   float64\n 10  Location                                     6039 non-null   object \n 11  Location Public Visibility                   7500 non-null   object \n 12  User Language                                7500 non-null   object \n 13  Profile Creation Timestamp                   7500 non-null   object \n 14  User Time Zone                               7014 non-null   object \n 15  Num of Followers                             7500 non-null   int64  \n 16  Num of People Following                      7500 non-null   int64  \n 17  Num of Status Updates                        7500 non-null   int64  \n 18  Num of Direct Messages                       7500 non-null   int64  \n 19  Profile Category                             7500 non-null   object \n 20  Avg Daily Profile Visit Duration in seconds  7423 non-null   float64\n 21  Avg Daily Profile Clicks                     7424 non-null   float64\n 22  Profile Image                                7500 non-null   object \n 23  Num of Profile Likes                         7500 non-null   int64  \ndtypes: bool(1), float64(3), int64(5), object(15)\nmemory usage: 1.3+ MB\n"
     ]
    }
   ],
   "source": [
    "df_train.info()"
   ]
  },
  {
   "cell_type": "markdown",
   "metadata": {
    "id": "N3sFnwYqzAbD"
   },
   "source": [
    "**Dropping classes**"
   ]
  },
  {
   "cell_type": "code",
   "execution_count": 4,
   "metadata": {
    "id": "V36LOj1idTk6"
   },
   "outputs": [],
   "source": [
    "#df_train.drop(labels=[\"User Name\", \"Personal URL\", \"Location\", \"User Time Zone\"], axis=1, inplace=True)\n",
    "df_train.drop(labels=[\"User Name\", \"Location\", \"User Time Zone\"], axis=1, inplace=True)"
   ]
  },
  {
   "cell_type": "markdown",
   "metadata": {
    "id": "zvLQGwTgJMNv"
   },
   "source": [
    "**Converting URL to binary**"
   ]
  },
  {
   "cell_type": "code",
   "execution_count": 5,
   "metadata": {
    "colab": {
     "base_uri": "https://localhost:8080/",
     "height": 1000
    },
    "id": "0E9GRXJqJPDy",
    "outputId": "357fddc8-abe8-4434-f591-3a7118bfc0d4"
   },
   "outputs": [
    {
     "output_type": "execute_result",
     "data": {
      "text/plain": [
       "                    Id  Personal URL Profile Cover Image Status  \\\n",
       "0     AL85S14OMDPF01I9           0.0                        Set   \n",
       "1     HI11QOPD7BLJTO7Q           0.0                        Set   \n",
       "2     JS49LP5P72RI1OQB           0.0                        Set   \n",
       "3     S0GDSC09MACCLBJP           1.0                    Not set   \n",
       "4     CRSEMK4QER6LDJSA           1.0                        Set   \n",
       "...                ...           ...                        ...   \n",
       "7495  KP5DR7CTN8CNLG8P           0.0                    Not set   \n",
       "7496  SGNF9P1P3922T34T           0.0                    Not set   \n",
       "7497  O00FTLDT6O803LD0           0.0                        Set   \n",
       "7498  9F04JLR9JGT8R3EJ           0.0                        Set   \n",
       "7499  LLKNQ56IFCSSCOT6           1.0                        Set   \n",
       "\n",
       "     Profile Verification Status Profile Text Color Profile Page Color  \\\n",
       "0                       Verified             db1a2c             eaf0f2   \n",
       "1                       Verified             0099cc             f6ffd1   \n",
       "2                   Not verified             1fc2de             efefef   \n",
       "3                       Verified             050000             616161   \n",
       "4                   Not verified             58424d             f7f7f7   \n",
       "...                          ...                ...                ...   \n",
       "7495                    Verified             490707             ddeef6   \n",
       "7496                Not verified             000000             ffffff   \n",
       "7497                    Verified             0084b4             ddffcc   \n",
       "7498                Not verified             91d2fa             ddffcc   \n",
       "7499                Not verified             0084b4             ddeef6   \n",
       "\n",
       "     Profile Theme Color  Is Profile View Size Customized?  UTC Offset  \\\n",
       "0                 e70409                             False     39600.0   \n",
       "1                 fff04d                             False         NaN   \n",
       "2                 1fc2de                             False    -18000.0   \n",
       "3                 00090a                             False    -14400.0   \n",
       "4                 000000                             False    -18000.0   \n",
       "...                  ...                               ...         ...   \n",
       "7495              000000                             False    -25200.0   \n",
       "7496              ffffff                             False    -10800.0   \n",
       "7497              00133b                             False      7200.0   \n",
       "7498              fa743e                             False    -10800.0   \n",
       "7499              c0deed                             False     32400.0   \n",
       "\n",
       "     Location Public Visibility  ...      Profile Creation Timestamp  \\\n",
       "0                       Enabled  ...  Thu Nov 27 05:24:59 +0000 2008   \n",
       "1                       Enabled  ...  Fri Jan 15 18:00:46 +0000 2010   \n",
       "2                       Enabled  ...  Fri Oct 02 20:15:06 +0000 2009   \n",
       "3                       Enabled  ...  Thu Feb 19 14:37:22 +0000 2009   \n",
       "4                       Enabled  ...  Tue Mar 31 13:27:52 +0000 2009   \n",
       "...                         ...  ...                             ...   \n",
       "7495                   Disabled  ...  Thu Jan 20 20:22:20 +0000 2011   \n",
       "7496                    Enabled  ...  Wed Mar 16 03:50:49 +0000 2011   \n",
       "7497                    enabled  ...  Sat Mar 14 16:18:06 +0000 2009   \n",
       "7498                    enabled  ...  Sat Jul 25 16:08:25 +0000 2009   \n",
       "7499                   disabled  ...  Tue Dec 21 10:05:37 +0000 2010   \n",
       "\n",
       "     Num of Followers  Num of People Following  Num of Status Updates  \\\n",
       "0               95763                     4289                  30809   \n",
       "1             1018746                      289                   8150   \n",
       "2               13444                     1876                   4698   \n",
       "3              339168                     1148                  53216   \n",
       "4                9215                       93                   3271   \n",
       "...               ...                      ...                    ...   \n",
       "7495             6086                       76                    985   \n",
       "7496           280190                    38604                  20652   \n",
       "7497            21647                       49                   2348   \n",
       "7498            89005                      256                  73830   \n",
       "7499           313002                   254541                  28928   \n",
       "\n",
       "      Num of Direct Messages  Profile Category  \\\n",
       "0                        873          business   \n",
       "1                        290           unknown   \n",
       "2                        227           unknown   \n",
       "3                       4035          business   \n",
       "4                        130           unknown   \n",
       "...                      ...               ...   \n",
       "7495                      56           unknown   \n",
       "7496                     172           unknown   \n",
       "7497                     271                     \n",
       "7498                     346          business   \n",
       "7499                     875          business   \n",
       "\n",
       "     Avg Daily Profile Visit Duration in seconds  Avg Daily Profile Clicks  \\\n",
       "0                                         14.792                    1.5761   \n",
       "1                                          8.183                   11.2782   \n",
       "2                                         31.823                    0.5725   \n",
       "3                                         23.052                    4.0265   \n",
       "4                                          8.418                    3.9229   \n",
       "...                                          ...                       ...   \n",
       "7495                                      24.792                    8.1106   \n",
       "7496                                      26.006                    0.8956   \n",
       "7497                                      15.030                    2.8867   \n",
       "7498                                      11.948                    1.7756   \n",
       "7499                                      14.307                    9.6908   \n",
       "\n",
       "             Profile Image Num of Profile Likes  \n",
       "0     AL85S14OMDPF01I9.png                 2815  \n",
       "1     HI11QOPD7BLJTO7Q.png                 1242  \n",
       "2     JS49LP5P72RI1OQB.png                 1559  \n",
       "3     S0GDSC09MACCLBJP.png                 6342  \n",
       "4     CRSEMK4QER6LDJSA.png                 1078  \n",
       "...                    ...                  ...  \n",
       "7495  KP5DR7CTN8CNLG8P.png                 1373  \n",
       "7496  SGNF9P1P3922T34T.png                 1407  \n",
       "7497  O00FTLDT6O803LD0.png                 1235  \n",
       "7498  9F04JLR9JGT8R3EJ.png                 1105  \n",
       "7499  LLKNQ56IFCSSCOT6.png                  375  \n",
       "\n",
       "[7500 rows x 21 columns]"
      ],
      "text/html": "<div>\n<style scoped>\n    .dataframe tbody tr th:only-of-type {\n        vertical-align: middle;\n    }\n\n    .dataframe tbody tr th {\n        vertical-align: top;\n    }\n\n    .dataframe thead th {\n        text-align: right;\n    }\n</style>\n<table border=\"1\" class=\"dataframe\">\n  <thead>\n    <tr style=\"text-align: right;\">\n      <th></th>\n      <th>Id</th>\n      <th>Personal URL</th>\n      <th>Profile Cover Image Status</th>\n      <th>Profile Verification Status</th>\n      <th>Profile Text Color</th>\n      <th>Profile Page Color</th>\n      <th>Profile Theme Color</th>\n      <th>Is Profile View Size Customized?</th>\n      <th>UTC Offset</th>\n      <th>Location Public Visibility</th>\n      <th>...</th>\n      <th>Profile Creation Timestamp</th>\n      <th>Num of Followers</th>\n      <th>Num of People Following</th>\n      <th>Num of Status Updates</th>\n      <th>Num of Direct Messages</th>\n      <th>Profile Category</th>\n      <th>Avg Daily Profile Visit Duration in seconds</th>\n      <th>Avg Daily Profile Clicks</th>\n      <th>Profile Image</th>\n      <th>Num of Profile Likes</th>\n    </tr>\n  </thead>\n  <tbody>\n    <tr>\n      <th>0</th>\n      <td>AL85S14OMDPF01I9</td>\n      <td>0.0</td>\n      <td>Set</td>\n      <td>Verified</td>\n      <td>db1a2c</td>\n      <td>eaf0f2</td>\n      <td>e70409</td>\n      <td>False</td>\n      <td>39600.0</td>\n      <td>Enabled</td>\n      <td>...</td>\n      <td>Thu Nov 27 05:24:59 +0000 2008</td>\n      <td>95763</td>\n      <td>4289</td>\n      <td>30809</td>\n      <td>873</td>\n      <td>business</td>\n      <td>14.792</td>\n      <td>1.5761</td>\n      <td>AL85S14OMDPF01I9.png</td>\n      <td>2815</td>\n    </tr>\n    <tr>\n      <th>1</th>\n      <td>HI11QOPD7BLJTO7Q</td>\n      <td>0.0</td>\n      <td>Set</td>\n      <td>Verified</td>\n      <td>0099cc</td>\n      <td>f6ffd1</td>\n      <td>fff04d</td>\n      <td>False</td>\n      <td>NaN</td>\n      <td>Enabled</td>\n      <td>...</td>\n      <td>Fri Jan 15 18:00:46 +0000 2010</td>\n      <td>1018746</td>\n      <td>289</td>\n      <td>8150</td>\n      <td>290</td>\n      <td>unknown</td>\n      <td>8.183</td>\n      <td>11.2782</td>\n      <td>HI11QOPD7BLJTO7Q.png</td>\n      <td>1242</td>\n    </tr>\n    <tr>\n      <th>2</th>\n      <td>JS49LP5P72RI1OQB</td>\n      <td>0.0</td>\n      <td>Set</td>\n      <td>Not verified</td>\n      <td>1fc2de</td>\n      <td>efefef</td>\n      <td>1fc2de</td>\n      <td>False</td>\n      <td>-18000.0</td>\n      <td>Enabled</td>\n      <td>...</td>\n      <td>Fri Oct 02 20:15:06 +0000 2009</td>\n      <td>13444</td>\n      <td>1876</td>\n      <td>4698</td>\n      <td>227</td>\n      <td>unknown</td>\n      <td>31.823</td>\n      <td>0.5725</td>\n      <td>JS49LP5P72RI1OQB.png</td>\n      <td>1559</td>\n    </tr>\n    <tr>\n      <th>3</th>\n      <td>S0GDSC09MACCLBJP</td>\n      <td>1.0</td>\n      <td>Not set</td>\n      <td>Verified</td>\n      <td>050000</td>\n      <td>616161</td>\n      <td>00090a</td>\n      <td>False</td>\n      <td>-14400.0</td>\n      <td>Enabled</td>\n      <td>...</td>\n      <td>Thu Feb 19 14:37:22 +0000 2009</td>\n      <td>339168</td>\n      <td>1148</td>\n      <td>53216</td>\n      <td>4035</td>\n      <td>business</td>\n      <td>23.052</td>\n      <td>4.0265</td>\n      <td>S0GDSC09MACCLBJP.png</td>\n      <td>6342</td>\n    </tr>\n    <tr>\n      <th>4</th>\n      <td>CRSEMK4QER6LDJSA</td>\n      <td>1.0</td>\n      <td>Set</td>\n      <td>Not verified</td>\n      <td>58424d</td>\n      <td>f7f7f7</td>\n      <td>000000</td>\n      <td>False</td>\n      <td>-18000.0</td>\n      <td>Enabled</td>\n      <td>...</td>\n      <td>Tue Mar 31 13:27:52 +0000 2009</td>\n      <td>9215</td>\n      <td>93</td>\n      <td>3271</td>\n      <td>130</td>\n      <td>unknown</td>\n      <td>8.418</td>\n      <td>3.9229</td>\n      <td>CRSEMK4QER6LDJSA.png</td>\n      <td>1078</td>\n    </tr>\n    <tr>\n      <th>...</th>\n      <td>...</td>\n      <td>...</td>\n      <td>...</td>\n      <td>...</td>\n      <td>...</td>\n      <td>...</td>\n      <td>...</td>\n      <td>...</td>\n      <td>...</td>\n      <td>...</td>\n      <td>...</td>\n      <td>...</td>\n      <td>...</td>\n      <td>...</td>\n      <td>...</td>\n      <td>...</td>\n      <td>...</td>\n      <td>...</td>\n      <td>...</td>\n      <td>...</td>\n      <td>...</td>\n    </tr>\n    <tr>\n      <th>7495</th>\n      <td>KP5DR7CTN8CNLG8P</td>\n      <td>0.0</td>\n      <td>Not set</td>\n      <td>Verified</td>\n      <td>490707</td>\n      <td>ddeef6</td>\n      <td>000000</td>\n      <td>False</td>\n      <td>-25200.0</td>\n      <td>Disabled</td>\n      <td>...</td>\n      <td>Thu Jan 20 20:22:20 +0000 2011</td>\n      <td>6086</td>\n      <td>76</td>\n      <td>985</td>\n      <td>56</td>\n      <td>unknown</td>\n      <td>24.792</td>\n      <td>8.1106</td>\n      <td>KP5DR7CTN8CNLG8P.png</td>\n      <td>1373</td>\n    </tr>\n    <tr>\n      <th>7496</th>\n      <td>SGNF9P1P3922T34T</td>\n      <td>0.0</td>\n      <td>Not set</td>\n      <td>Not verified</td>\n      <td>000000</td>\n      <td>ffffff</td>\n      <td>ffffff</td>\n      <td>False</td>\n      <td>-10800.0</td>\n      <td>Enabled</td>\n      <td>...</td>\n      <td>Wed Mar 16 03:50:49 +0000 2011</td>\n      <td>280190</td>\n      <td>38604</td>\n      <td>20652</td>\n      <td>172</td>\n      <td>unknown</td>\n      <td>26.006</td>\n      <td>0.8956</td>\n      <td>SGNF9P1P3922T34T.png</td>\n      <td>1407</td>\n    </tr>\n    <tr>\n      <th>7497</th>\n      <td>O00FTLDT6O803LD0</td>\n      <td>0.0</td>\n      <td>Set</td>\n      <td>Verified</td>\n      <td>0084b4</td>\n      <td>ddffcc</td>\n      <td>00133b</td>\n      <td>False</td>\n      <td>7200.0</td>\n      <td>enabled</td>\n      <td>...</td>\n      <td>Sat Mar 14 16:18:06 +0000 2009</td>\n      <td>21647</td>\n      <td>49</td>\n      <td>2348</td>\n      <td>271</td>\n      <td></td>\n      <td>15.030</td>\n      <td>2.8867</td>\n      <td>O00FTLDT6O803LD0.png</td>\n      <td>1235</td>\n    </tr>\n    <tr>\n      <th>7498</th>\n      <td>9F04JLR9JGT8R3EJ</td>\n      <td>0.0</td>\n      <td>Set</td>\n      <td>Not verified</td>\n      <td>91d2fa</td>\n      <td>ddffcc</td>\n      <td>fa743e</td>\n      <td>False</td>\n      <td>-10800.0</td>\n      <td>enabled</td>\n      <td>...</td>\n      <td>Sat Jul 25 16:08:25 +0000 2009</td>\n      <td>89005</td>\n      <td>256</td>\n      <td>73830</td>\n      <td>346</td>\n      <td>business</td>\n      <td>11.948</td>\n      <td>1.7756</td>\n      <td>9F04JLR9JGT8R3EJ.png</td>\n      <td>1105</td>\n    </tr>\n    <tr>\n      <th>7499</th>\n      <td>LLKNQ56IFCSSCOT6</td>\n      <td>1.0</td>\n      <td>Set</td>\n      <td>Not verified</td>\n      <td>0084b4</td>\n      <td>ddeef6</td>\n      <td>c0deed</td>\n      <td>False</td>\n      <td>32400.0</td>\n      <td>disabled</td>\n      <td>...</td>\n      <td>Tue Dec 21 10:05:37 +0000 2010</td>\n      <td>313002</td>\n      <td>254541</td>\n      <td>28928</td>\n      <td>875</td>\n      <td>business</td>\n      <td>14.307</td>\n      <td>9.6908</td>\n      <td>LLKNQ56IFCSSCOT6.png</td>\n      <td>375</td>\n    </tr>\n  </tbody>\n</table>\n<p>7500 rows × 21 columns</p>\n</div>"
     },
     "metadata": {},
     "execution_count": 5
    }
   ],
   "source": [
    "df_train[\"Personal URL\"] = df_train['Personal URL'].replace('.*', 1, regex=True)\n",
    "df_train[\"Personal URL\"] = df_train['Personal URL'].replace(np.nan, 0, regex=True)\n",
    "\n",
    "df_train"
   ]
  },
  {
   "cell_type": "markdown",
   "metadata": {
    "id": "3INsXouvyIYF"
   },
   "source": [
    "**Managing TimeStamp**"
   ]
  },
  {
   "cell_type": "code",
   "execution_count": 6,
   "metadata": {
    "id": "6PMTLwN1yMgy"
   },
   "outputs": [],
   "source": [
    "trips_start = df_train[[\"Id\", \"Profile Creation Timestamp\"]].copy()\n",
    "trips_start[\"Profile Creation Timestamp\"] = pd.to_datetime(trips_start[\"Profile Creation Timestamp\"])\n",
    "\n",
    "#https://www.w3resource.com/python-exercises/pandas/datetime/pandas-datetime-exercise-8.php\n",
    "trips_start[\"Profile Creation Day\"] = trips_start[\"Profile Creation Timestamp\"].dt.day\n",
    "trips_start[\"Profile Creation WeekDay\"] = trips_start[\"Profile Creation Timestamp\"].dt.day_name()\n",
    "trips_start[\"Profile Creation Month\"] = trips_start[\"Profile Creation Timestamp\"].dt.month\n",
    "trips_start[\"Profile Creation Year\"] = trips_start[\"Profile Creation Timestamp\"].dt.year\n",
    "trips_start[\"Profile Creation Hour\"] = trips_start[\"Profile Creation Timestamp\"].dt.hour\n",
    "trips_start = trips_start.drop(columns=[\"Profile Creation Timestamp\"])\n",
    "\n",
    "df_train = df_train.join(trips_start.set_index('Id'), on='Id')\n",
    "\n",
    "#Here, this is an totally optional step. I moved the 3 features added to the dataframe to the front of the dataframe to make it easy to see them when printing\n",
    "#https://stackoverflow.com/questions/25122099/move-column-by-name-to-front-of-table-in-pandas\n",
    "for col_name in [\"Profile Creation Hour\", \"Profile Creation WeekDay\", \"Profile Creation Day\", \"Profile Creation Month\", \"Profile Creation Year\"]:\n",
    "  mid = df_train[col_name]\n",
    "  df_train.drop(labels=col_name, axis=1, inplace = True)\n",
    "  df_train.insert(10, col_name, mid)\n",
    "\n",
    "df_train.drop(columns=[\"Profile Creation Timestamp\"], inplace=True)"
   ]
  },
  {
   "cell_type": "markdown",
   "metadata": {
    "id": "P_AvtmimHYxk"
   },
   "source": [
    "**Converting Categories to numeric**"
   ]
  },
  {
   "cell_type": "code",
   "execution_count": 7,
   "metadata": {
    "colab": {
     "base_uri": "https://localhost:8080/"
    },
    "id": "KbP8wkzlh2_G",
    "outputId": "27ee1899-987d-41da-c221-aa302bb39495"
   },
   "outputs": [
    {
     "output_type": "stream",
     "name": "stdout",
     "text": [
      "['Not set' 'Set' 'unknown']\n['??' 'disabled' 'enabled']\n[False  True]\n[ 0  1  2  3  4  5  6  7  8  9 10 11 12 13 14 15 16 17 18 19 20 21 22 23\n 24 25 26 27]\n['Monday', 'Tuesday', 'Wenesday', 'Thursday', 'Friday', 'Saturday', 'Sunday']\n"
     ]
    }
   ],
   "source": [
    "cover_encoder = LabelEncoder()\n",
    "df_train['Profile Cover Image Status'] = df_train['Profile Cover Image Status'].replace(np.nan, \"unknown\", regex=True)\n",
    "df_train['Profile Cover Image Status'] = cover_encoder.fit_transform(df_train['Profile Cover Image Status'])\n",
    "print(cover_encoder.classes_)\n",
    "\n",
    "location_encoder = LabelEncoder()\n",
    "df_train[\"Location Public Visibility\"] = df_train['Location Public Visibility'].replace(np.nan, '??', regex=True)\n",
    "df_train['Location Public Visibility'] = df_train['Location Public Visibility'].str.lower()\n",
    "df_train[\"Location Public Visibility\"] = location_encoder.fit_transform(df_train[\"Location Public Visibility\"])\n",
    "print( location_encoder.classes_)\n",
    "\n",
    "view_size_encoder = LabelEncoder()\n",
    "df_train[\"Is Profile View Size Customized?\"] = view_size_encoder.fit_transform(df_train[\"Is Profile View Size Customized?\"])\n",
    "print( view_size_encoder.classes_)\n",
    "\n",
    "language_encoder = LabelEncoder()\n",
    "df_train[\"User Language\"] = df_train['User Language'].str.lower()\n",
    "if generateTrain:\n",
    "  df_train[\"User Language\"] = language_encoder.fit_transform(df_train[\"User Language\"])\n",
    "  language_encoder.fit_transform(df_train[\"User Language\"])\n",
    "  print( language_encoder.classes_)\n",
    "  language_dict = {value: key for (key, value) in enumerate(language_encoder.classes_)}\n",
    "else:\n",
    "  df_train[\"User Language\"] = df_train[\"User Language\"].apply(lambda x: language_dict[x] if x in language_dict else np.nan)\n",
    "\n",
    "\n",
    "category_encoder = LabelEncoder()\n",
    "df_train[\"Profile Category\"] = df_train['Profile Category'].replace(np.nan, 'unknown', regex=True)\n",
    "df_train[\"Profile Category\"] = df_train['Profile Category'].replace(' ', 'unknown', regex=True)\n",
    "df_train['Profile Category'] = df_train['Profile Category'].str.lower()\n",
    "\n",
    "df_train[\"Profile Creation WeekDay\"] = df_train[\"Profile Creation WeekDay\"].map({'Monday':0, 'Tuesday':1, 'Wenesday':2, 'Thursday':3, \"Friday\":4, \"Saturday\":5, \"Sunday\":6})\n",
    "in_order_weekdays = [\"Monday\", \"Tuesday\", \"Wenesday\", \"Thursday\", \"Friday\", \"Saturday\", \"Sunday\"]\n",
    "print(in_order_weekdays)\n",
    "\n"
   ]
  },
  {
   "cell_type": "code",
   "execution_count": 8,
   "metadata": {
    "colab": {
     "base_uri": "https://localhost:8080/",
     "height": 541
    },
    "id": "pj1io4prTNkN",
    "outputId": "f61564c8-7a32-4d40-ccc4-a285d3fc9393"
   },
   "outputs": [
    {
     "output_type": "execute_result",
     "data": {
      "text/plain": [
       "                    Id  Personal URL  Profile Cover Image Status  \\\n",
       "0     AL85S14OMDPF01I9           0.0                           1   \n",
       "1     HI11QOPD7BLJTO7Q           0.0                           1   \n",
       "2     JS49LP5P72RI1OQB           0.0                           1   \n",
       "3     S0GDSC09MACCLBJP           1.0                           0   \n",
       "4     CRSEMK4QER6LDJSA           1.0                           1   \n",
       "...                ...           ...                         ...   \n",
       "7495  KP5DR7CTN8CNLG8P           0.0                           0   \n",
       "7496  SGNF9P1P3922T34T           0.0                           0   \n",
       "7497  O00FTLDT6O803LD0           0.0                           1   \n",
       "7498  9F04JLR9JGT8R3EJ           0.0                           1   \n",
       "7499  LLKNQ56IFCSSCOT6           1.0                           1   \n",
       "\n",
       "     Profile Verification Status Profile Text Color Profile Page Color  \\\n",
       "0                       Verified             db1a2c             eaf0f2   \n",
       "1                       Verified             0099cc             f6ffd1   \n",
       "2                   Not verified             1fc2de             efefef   \n",
       "3                       Verified             050000             616161   \n",
       "4                   Not verified             58424d             f7f7f7   \n",
       "...                          ...                ...                ...   \n",
       "7495                    Verified             490707             ddeef6   \n",
       "7496                Not verified             000000             ffffff   \n",
       "7497                    Verified             0084b4             ddffcc   \n",
       "7498                Not verified             91d2fa             ddffcc   \n",
       "7499                Not verified             0084b4             ddeef6   \n",
       "\n",
       "     Profile Theme Color  Is Profile View Size Customized?  UTC Offset  \\\n",
       "0                 e70409                                 0     39600.0   \n",
       "1                 fff04d                                 0         NaN   \n",
       "2                 1fc2de                                 0    -18000.0   \n",
       "3                 00090a                                 0    -14400.0   \n",
       "4                 000000                                 0    -18000.0   \n",
       "...                  ...                               ...         ...   \n",
       "7495              000000                                 0    -25200.0   \n",
       "7496              ffffff                                 0    -10800.0   \n",
       "7497              00133b                                 0      7200.0   \n",
       "7498              fa743e                                 0    -10800.0   \n",
       "7499              c0deed                                 0     32400.0   \n",
       "\n",
       "      Location Public Visibility  ...  User Language  Num of Followers  \\\n",
       "0                              2  ...              6             95763   \n",
       "1                              2  ...              6           1018746   \n",
       "2                              2  ...              6             13444   \n",
       "3                              2  ...              6            339168   \n",
       "4                              2  ...              6              9215   \n",
       "...                          ...  ...            ...               ...   \n",
       "7495                           1  ...              6              6086   \n",
       "7496                           2  ...             18            280190   \n",
       "7497                           2  ...              6             21647   \n",
       "7498                           2  ...             18             89005   \n",
       "7499                           1  ...             14            313002   \n",
       "\n",
       "      Num of People Following  Num of Status Updates  Num of Direct Messages  \\\n",
       "0                        4289                  30809                     873   \n",
       "1                         289                   8150                     290   \n",
       "2                        1876                   4698                     227   \n",
       "3                        1148                  53216                    4035   \n",
       "4                          93                   3271                     130   \n",
       "...                       ...                    ...                     ...   \n",
       "7495                       76                    985                      56   \n",
       "7496                    38604                  20652                     172   \n",
       "7497                       49                   2348                     271   \n",
       "7498                      256                  73830                     346   \n",
       "7499                   254541                  28928                     875   \n",
       "\n",
       "      Profile Category  Avg Daily Profile Visit Duration in seconds  \\\n",
       "0             business                                       14.792   \n",
       "1              unknown                                        8.183   \n",
       "2              unknown                                       31.823   \n",
       "3             business                                       23.052   \n",
       "4              unknown                                        8.418   \n",
       "...                ...                                          ...   \n",
       "7495           unknown                                       24.792   \n",
       "7496           unknown                                       26.006   \n",
       "7497           unknown                                       15.030   \n",
       "7498          business                                       11.948   \n",
       "7499          business                                       14.307   \n",
       "\n",
       "      Avg Daily Profile Clicks         Profile Image  Num of Profile Likes  \n",
       "0                       1.5761  AL85S14OMDPF01I9.png                  2815  \n",
       "1                      11.2782  HI11QOPD7BLJTO7Q.png                  1242  \n",
       "2                       0.5725  JS49LP5P72RI1OQB.png                  1559  \n",
       "3                       4.0265  S0GDSC09MACCLBJP.png                  6342  \n",
       "4                       3.9229  CRSEMK4QER6LDJSA.png                  1078  \n",
       "...                        ...                   ...                   ...  \n",
       "7495                    8.1106  KP5DR7CTN8CNLG8P.png                  1373  \n",
       "7496                    0.8956  SGNF9P1P3922T34T.png                  1407  \n",
       "7497                    2.8867  O00FTLDT6O803LD0.png                  1235  \n",
       "7498                    1.7756  9F04JLR9JGT8R3EJ.png                  1105  \n",
       "7499                    9.6908  LLKNQ56IFCSSCOT6.png                   375  \n",
       "\n",
       "[7500 rows x 25 columns]"
      ],
      "text/html": "<div>\n<style scoped>\n    .dataframe tbody tr th:only-of-type {\n        vertical-align: middle;\n    }\n\n    .dataframe tbody tr th {\n        vertical-align: top;\n    }\n\n    .dataframe thead th {\n        text-align: right;\n    }\n</style>\n<table border=\"1\" class=\"dataframe\">\n  <thead>\n    <tr style=\"text-align: right;\">\n      <th></th>\n      <th>Id</th>\n      <th>Personal URL</th>\n      <th>Profile Cover Image Status</th>\n      <th>Profile Verification Status</th>\n      <th>Profile Text Color</th>\n      <th>Profile Page Color</th>\n      <th>Profile Theme Color</th>\n      <th>Is Profile View Size Customized?</th>\n      <th>UTC Offset</th>\n      <th>Location Public Visibility</th>\n      <th>...</th>\n      <th>User Language</th>\n      <th>Num of Followers</th>\n      <th>Num of People Following</th>\n      <th>Num of Status Updates</th>\n      <th>Num of Direct Messages</th>\n      <th>Profile Category</th>\n      <th>Avg Daily Profile Visit Duration in seconds</th>\n      <th>Avg Daily Profile Clicks</th>\n      <th>Profile Image</th>\n      <th>Num of Profile Likes</th>\n    </tr>\n  </thead>\n  <tbody>\n    <tr>\n      <th>0</th>\n      <td>AL85S14OMDPF01I9</td>\n      <td>0.0</td>\n      <td>1</td>\n      <td>Verified</td>\n      <td>db1a2c</td>\n      <td>eaf0f2</td>\n      <td>e70409</td>\n      <td>0</td>\n      <td>39600.0</td>\n      <td>2</td>\n      <td>...</td>\n      <td>6</td>\n      <td>95763</td>\n      <td>4289</td>\n      <td>30809</td>\n      <td>873</td>\n      <td>business</td>\n      <td>14.792</td>\n      <td>1.5761</td>\n      <td>AL85S14OMDPF01I9.png</td>\n      <td>2815</td>\n    </tr>\n    <tr>\n      <th>1</th>\n      <td>HI11QOPD7BLJTO7Q</td>\n      <td>0.0</td>\n      <td>1</td>\n      <td>Verified</td>\n      <td>0099cc</td>\n      <td>f6ffd1</td>\n      <td>fff04d</td>\n      <td>0</td>\n      <td>NaN</td>\n      <td>2</td>\n      <td>...</td>\n      <td>6</td>\n      <td>1018746</td>\n      <td>289</td>\n      <td>8150</td>\n      <td>290</td>\n      <td>unknown</td>\n      <td>8.183</td>\n      <td>11.2782</td>\n      <td>HI11QOPD7BLJTO7Q.png</td>\n      <td>1242</td>\n    </tr>\n    <tr>\n      <th>2</th>\n      <td>JS49LP5P72RI1OQB</td>\n      <td>0.0</td>\n      <td>1</td>\n      <td>Not verified</td>\n      <td>1fc2de</td>\n      <td>efefef</td>\n      <td>1fc2de</td>\n      <td>0</td>\n      <td>-18000.0</td>\n      <td>2</td>\n      <td>...</td>\n      <td>6</td>\n      <td>13444</td>\n      <td>1876</td>\n      <td>4698</td>\n      <td>227</td>\n      <td>unknown</td>\n      <td>31.823</td>\n      <td>0.5725</td>\n      <td>JS49LP5P72RI1OQB.png</td>\n      <td>1559</td>\n    </tr>\n    <tr>\n      <th>3</th>\n      <td>S0GDSC09MACCLBJP</td>\n      <td>1.0</td>\n      <td>0</td>\n      <td>Verified</td>\n      <td>050000</td>\n      <td>616161</td>\n      <td>00090a</td>\n      <td>0</td>\n      <td>-14400.0</td>\n      <td>2</td>\n      <td>...</td>\n      <td>6</td>\n      <td>339168</td>\n      <td>1148</td>\n      <td>53216</td>\n      <td>4035</td>\n      <td>business</td>\n      <td>23.052</td>\n      <td>4.0265</td>\n      <td>S0GDSC09MACCLBJP.png</td>\n      <td>6342</td>\n    </tr>\n    <tr>\n      <th>4</th>\n      <td>CRSEMK4QER6LDJSA</td>\n      <td>1.0</td>\n      <td>1</td>\n      <td>Not verified</td>\n      <td>58424d</td>\n      <td>f7f7f7</td>\n      <td>000000</td>\n      <td>0</td>\n      <td>-18000.0</td>\n      <td>2</td>\n      <td>...</td>\n      <td>6</td>\n      <td>9215</td>\n      <td>93</td>\n      <td>3271</td>\n      <td>130</td>\n      <td>unknown</td>\n      <td>8.418</td>\n      <td>3.9229</td>\n      <td>CRSEMK4QER6LDJSA.png</td>\n      <td>1078</td>\n    </tr>\n    <tr>\n      <th>...</th>\n      <td>...</td>\n      <td>...</td>\n      <td>...</td>\n      <td>...</td>\n      <td>...</td>\n      <td>...</td>\n      <td>...</td>\n      <td>...</td>\n      <td>...</td>\n      <td>...</td>\n      <td>...</td>\n      <td>...</td>\n      <td>...</td>\n      <td>...</td>\n      <td>...</td>\n      <td>...</td>\n      <td>...</td>\n      <td>...</td>\n      <td>...</td>\n      <td>...</td>\n      <td>...</td>\n    </tr>\n    <tr>\n      <th>7495</th>\n      <td>KP5DR7CTN8CNLG8P</td>\n      <td>0.0</td>\n      <td>0</td>\n      <td>Verified</td>\n      <td>490707</td>\n      <td>ddeef6</td>\n      <td>000000</td>\n      <td>0</td>\n      <td>-25200.0</td>\n      <td>1</td>\n      <td>...</td>\n      <td>6</td>\n      <td>6086</td>\n      <td>76</td>\n      <td>985</td>\n      <td>56</td>\n      <td>unknown</td>\n      <td>24.792</td>\n      <td>8.1106</td>\n      <td>KP5DR7CTN8CNLG8P.png</td>\n      <td>1373</td>\n    </tr>\n    <tr>\n      <th>7496</th>\n      <td>SGNF9P1P3922T34T</td>\n      <td>0.0</td>\n      <td>0</td>\n      <td>Not verified</td>\n      <td>000000</td>\n      <td>ffffff</td>\n      <td>ffffff</td>\n      <td>0</td>\n      <td>-10800.0</td>\n      <td>2</td>\n      <td>...</td>\n      <td>18</td>\n      <td>280190</td>\n      <td>38604</td>\n      <td>20652</td>\n      <td>172</td>\n      <td>unknown</td>\n      <td>26.006</td>\n      <td>0.8956</td>\n      <td>SGNF9P1P3922T34T.png</td>\n      <td>1407</td>\n    </tr>\n    <tr>\n      <th>7497</th>\n      <td>O00FTLDT6O803LD0</td>\n      <td>0.0</td>\n      <td>1</td>\n      <td>Verified</td>\n      <td>0084b4</td>\n      <td>ddffcc</td>\n      <td>00133b</td>\n      <td>0</td>\n      <td>7200.0</td>\n      <td>2</td>\n      <td>...</td>\n      <td>6</td>\n      <td>21647</td>\n      <td>49</td>\n      <td>2348</td>\n      <td>271</td>\n      <td>unknown</td>\n      <td>15.030</td>\n      <td>2.8867</td>\n      <td>O00FTLDT6O803LD0.png</td>\n      <td>1235</td>\n    </tr>\n    <tr>\n      <th>7498</th>\n      <td>9F04JLR9JGT8R3EJ</td>\n      <td>0.0</td>\n      <td>1</td>\n      <td>Not verified</td>\n      <td>91d2fa</td>\n      <td>ddffcc</td>\n      <td>fa743e</td>\n      <td>0</td>\n      <td>-10800.0</td>\n      <td>2</td>\n      <td>...</td>\n      <td>18</td>\n      <td>89005</td>\n      <td>256</td>\n      <td>73830</td>\n      <td>346</td>\n      <td>business</td>\n      <td>11.948</td>\n      <td>1.7756</td>\n      <td>9F04JLR9JGT8R3EJ.png</td>\n      <td>1105</td>\n    </tr>\n    <tr>\n      <th>7499</th>\n      <td>LLKNQ56IFCSSCOT6</td>\n      <td>1.0</td>\n      <td>1</td>\n      <td>Not verified</td>\n      <td>0084b4</td>\n      <td>ddeef6</td>\n      <td>c0deed</td>\n      <td>0</td>\n      <td>32400.0</td>\n      <td>1</td>\n      <td>...</td>\n      <td>14</td>\n      <td>313002</td>\n      <td>254541</td>\n      <td>28928</td>\n      <td>875</td>\n      <td>business</td>\n      <td>14.307</td>\n      <td>9.6908</td>\n      <td>LLKNQ56IFCSSCOT6.png</td>\n      <td>375</td>\n    </tr>\n  </tbody>\n</table>\n<p>7500 rows × 25 columns</p>\n</div>"
     },
     "metadata": {},
     "execution_count": 8
    }
   ],
   "source": [
    "df_train"
   ]
  },
  {
   "cell_type": "markdown",
   "metadata": {
    "id": "OkJjMxJwprK8"
   },
   "source": [
    "**Converting colors to numeric**"
   ]
  },
  {
   "cell_type": "code",
   "execution_count": 9,
   "metadata": {
    "id": "9jLwu5H4sis0"
   },
   "outputs": [],
   "source": [
    "def hex2decimal(hex_value):\n",
    "\n",
    "  if len(str(hex_value)) == 6:\n",
    "    hex = str(hex_value)\n",
    "    r = \"{:.2f}\".format(float(int(hex[0:2], 16))/255.0)\n",
    "    g = \"{:.2f}\".format(float(int(hex[2:4], 16))/255.0)\n",
    "    b = \"{:.2f}\".format(float(int(hex[4:6], 16))/255.0)\n",
    "\n",
    "    return str(r) + \"|\" + str(g) + \"|\" + str(b)\n",
    "  else:\n",
    "    return hex_value\n",
    "\n"
   ]
  },
  {
   "cell_type": "code",
   "execution_count": 10,
   "metadata": {
    "id": "JI7chiIc9KhP"
   },
   "outputs": [],
   "source": [
    "df_train['Profile Text Color'] = df_train['Profile Text Color'].apply(lambda x: x if(len(str(x)) == 6) else np.nan)\n",
    "df_train['Profile Text Color'] = df_train['Profile Text Color'].apply(lambda x: hex2decimal(x))\n",
    "new_cols = df_train['Profile Text Color'].str.split(\"|\", expand = True)\n",
    "\n",
    "df_train.insert(df_train.columns.get_loc(\"Profile Text Color\"), \"Profile Text Color R\", new_cols[0])\n",
    "df_train.insert(df_train.columns.get_loc(\"Profile Text Color\"), \"Profile Text Color G\", new_cols[1])\n",
    "df_train.insert(df_train.columns.get_loc(\"Profile Text Color\"), \"Profile Text Color B\", new_cols[2])\n",
    "\n",
    "df_train.drop(columns=[\"Profile Text Color\"], inplace=True)"
   ]
  },
  {
   "cell_type": "code",
   "execution_count": 11,
   "metadata": {
    "id": "YlyOnBxr9O0U"
   },
   "outputs": [],
   "source": [
    "df_train['Profile Page Color'] = df_train['Profile Page Color'].apply(lambda x: x if(len(str(x)) == 6) else np.nan)\n",
    "df_train['Profile Page Color'] = df_train['Profile Page Color'].apply(lambda x: hex2decimal(x))\n",
    "new_cols = df_train['Profile Page Color'].str.split(\"|\", expand = True)\n",
    "\n",
    "df_train.insert(df_train.columns.get_loc(\"Profile Page Color\"), \"Profile Page Color R\", new_cols[0])\n",
    "df_train.insert(df_train.columns.get_loc(\"Profile Page Color\"), \"Profile Page Color G\", new_cols[1])\n",
    "df_train.insert(df_train.columns.get_loc(\"Profile Page Color\"), \"Profile Page Color B\", new_cols[2])\n",
    "\n",
    "df_train.drop(columns=[\"Profile Page Color\"], inplace=True)"
   ]
  },
  {
   "cell_type": "code",
   "execution_count": 12,
   "metadata": {
    "id": "PaEEyReO9drW"
   },
   "outputs": [],
   "source": [
    "df_train['Profile Theme Color'] = df_train['Profile Theme Color'].apply(lambda x: x if(len(str(x)) == 6) else np.nan)\n",
    "df_train['Profile Theme Color'] = df_train['Profile Theme Color'].apply(lambda x: hex2decimal(x))\n",
    "new_cols = df_train['Profile Theme Color'].str.split(\"|\", expand = True)\n",
    "\n",
    "df_train.insert(df_train.columns.get_loc(\"Profile Theme Color\"), \"Profile Theme Color R\", new_cols[0])\n",
    "df_train.insert(df_train.columns.get_loc(\"Profile Theme Color\"), \"Profile Theme Color G\", new_cols[1])\n",
    "df_train.insert(df_train.columns.get_loc(\"Profile Theme Color\"), \"Profile Theme Color B\", new_cols[2])\n",
    "\n",
    "df_train.drop(columns=[\"Profile Theme Color\"], inplace=True)"
   ]
  },
  {
   "cell_type": "markdown",
   "metadata": {
    "id": "kP-y_lHPzJeJ"
   },
   "source": [
    "**Change unkown values in columns to NAN**\n"
   ]
  },
  {
   "cell_type": "code",
   "execution_count": 13,
   "metadata": {
    "id": "QwKV7-cUzEuY"
   },
   "outputs": [],
   "source": [
    "df_train[\"Profile Cover Image Status\"].replace(2, np.nan, inplace=True)\n",
    "df_train[\"Location Public Visibility\"].replace(0, np.nan, inplace=True)\n"
   ]
  },
  {
   "cell_type": "markdown",
   "metadata": {
    "id": "qt8RUaWI-w2n"
   },
   "source": [
    "**Rounding Daily Profile Visits and Clicks**"
   ]
  },
  {
   "cell_type": "code",
   "execution_count": 14,
   "metadata": {
    "id": "VP_7Oc3b-1LS"
   },
   "outputs": [],
   "source": [
    "df_train[\"Avg Daily Profile Visit Duration in seconds\"] = df_train[\"Avg Daily Profile Visit Duration in seconds\"].round()\n",
    "df_train[\"Avg Daily Profile Clicks\"] = df_train[\"Avg Daily Profile Clicks\"].round()"
   ]
  },
  {
   "cell_type": "markdown",
   "metadata": {
    "id": "D866tiSUEfxd"
   },
   "source": [
    "**Filling NAN values with appropriate replacement (Median)**"
   ]
  },
  {
   "cell_type": "code",
   "execution_count": 15,
   "metadata": {
    "id": "Jx0IeIjGAyMO"
   },
   "outputs": [],
   "source": [
    "df_train = df_train.fillna(df_train.median())"
   ]
  },
  {
   "cell_type": "markdown",
   "metadata": {
    "id": "00IrXPLgqDWX"
   },
   "source": [
    "**Outlier deletion**"
   ]
  },
  {
   "cell_type": "code",
   "execution_count": 16,
   "metadata": {
    "id": "pb6oUzGuqC0e"
   },
   "outputs": [],
   "source": [
    "def delete_outliers(df, name_of_column):\n",
    "    Q1 = df.quantile(0.25)\n",
    "    Q3 = df.quantile(0.75)\n",
    "    IQR = Q3 - Q1\n",
    "\n",
    "    mask = ((df > (Q1 - 1.5 * IQR)) & (df < (Q3 + 1.5 * IQR)))\n",
    "    return df[mask[name_of_column]]\n",
    "\n",
    "def correct_ouliers(df, name_of_column):\n",
    "    upper_lim = df[name_of_column].quantile(.95)\n",
    "    lower_lim = df[name_of_column].quantile(.05)\n",
    "\n",
    "    df.loc[(df[name_of_column] > upper_lim), name_of_column] = upper_lim\n",
    "    df.loc[(df[name_of_column] < lower_lim), name_of_column] = lower_lim\n",
    "    return df\n",
    "\n",
    "if generateTrain :\n",
    "  continuous_columns = [\"Num of Followers\", \"Num of People Following\", \"Num of Status Updates\", \"Num of Direct Messages\", \"Avg Daily Profile Visit Duration in seconds\", \"Avg Daily Profile Clicks\", \"Num of Profile Likes\"]\n",
    "  for c in continuous_columns:\n",
    "      df_train = delete_outliers(df_train, c)"
   ]
  },
  {
   "cell_type": "markdown",
   "metadata": {
    "id": "ElqFXST4PfVP"
   },
   "source": [
    "**Normalizing continuous values using log10**"
   ]
  },
  {
   "cell_type": "code",
   "execution_count": 17,
   "metadata": {
    "id": "-bN8pe8SPndS"
   },
   "outputs": [],
   "source": [
    "if generateTrain :\n",
    "  continuous_columns = [\"Num of Followers\", \"Num of People Following\", \"Num of Status Updates\", \"Num of Direct Messages\", \"Avg Daily Profile Visit Duration in seconds\", \"Avg Daily Profile Clicks\", \"Num of Profile Likes\"]\n",
    "\n",
    "if generateTest :\n",
    "  continuous_columns = [\"Num of Followers\", \"Num of People Following\", \"Num of Status Updates\", \"Num of Direct Messages\", \"Avg Daily Profile Visit Duration in seconds\", \"Avg Daily Profile Clicks\"]\n",
    "\n",
    "for c in continuous_columns:\n",
    "  df_train[c] = np.log10(df_train[c] + 1)"
   ]
  },
  {
   "cell_type": "markdown",
   "metadata": {
    "id": "f9i35RVJ_iQl"
   },
   "source": [
    "**Convert Columns to appropriate type**"
   ]
  },
  {
   "cell_type": "code",
   "execution_count": 18,
   "metadata": {
    "id": "s9KF_lBD_mSh"
   },
   "outputs": [],
   "source": [
    "\n",
    "df_train = df_train.astype({'Profile Cover Image Status': 'int64', \n",
    "                 'Personal URL': 'int64',\n",
    "                 'UTC Offset': 'int64',\n",
    "                 'Location Public Visibility': 'int64',\n",
    "                 'Profile Creation WeekDay': 'int64',\n",
    "                 \"Profile Text Color R\": 'float64',\n",
    "                 \"Profile Text Color G\": 'float64',\n",
    "                 \"Profile Text Color B\": 'float64',\n",
    "                 \"Profile Page Color R\": 'float64',\n",
    "                 \"Profile Page Color G\": 'float64',\n",
    "                 \"Profile Page Color B\": 'float64',\n",
    "                 \"Profile Theme Color R\": 'float64',\n",
    "                 \"Profile Theme Color G\": 'float64',\n",
    "                 \"Profile Theme Color B\": 'float64'\n",
    "                 })\n"
   ]
  },
  {
   "cell_type": "code",
   "execution_count": 19,
   "metadata": {
    "id": "8zd8HVYgW3Sz"
   },
   "outputs": [],
   "source": [
    "encoded_columns = pd.get_dummies(df_train['Profile Creation Year'])\n",
    "df_train = df_train.join(encoded_columns).drop('Profile Creation Year', axis=1)\n",
    "\n",
    "df_train['Location Public Visibility'] = df_train['Location Public Visibility'].apply(lambda x: 0 if(x==1) else 1)\n",
    "\n",
    "encoded_columns = pd.get_dummies(df_train['UTC Offset'])\n",
    "df_train = df_train.join(encoded_columns).drop('UTC Offset', axis=1)\n",
    "encoded_columns = pd.get_dummies(df_train['Profile Verification Status'])\n",
    "df_train = df_train.join(encoded_columns).drop('Profile Verification Status', axis=1)\n",
    "encoded_columns = pd.get_dummies(df_train['Profile Category'])\n",
    "df_train = df_train.join(encoded_columns).drop('Profile Category', axis=1)\n",
    "\n",
    "\n",
    "if generateTrain :\n",
    "  tmp = df_train['Num of Profile Likes']\n",
    "  df_train = df_train.drop('Num of Profile Likes', axis=1)\n",
    "  df_train = df_train.join(tmp)"
   ]
  },
  {
   "cell_type": "markdown",
   "metadata": {
    "id": "tTzjU4e2C-k3",
    "pycharm": {
     "name": "#%% md\n"
    }
   },
   "source": [
    "**Saving Model to CSV and Pkl**"
   ]
  },
  {
   "cell_type": "code",
   "execution_count": 20,
   "metadata": {
    "colab": {
     "base_uri": "https://localhost:8080/",
     "height": 541
    },
    "id": "rdwwiy_oiWUU",
    "outputId": "ddb04a52-32ee-40d7-8bcd-d4387ef51169",
    "pycharm": {
     "name": "#%%\n"
    }
   },
   "outputs": [
    {
     "output_type": "execute_result",
     "data": {
      "text/plain": [
       "                    Id  Personal URL  Profile Cover Image Status  \\\n",
       "2     JS49LP5P72RI1OQB             0                           1   \n",
       "4     CRSEMK4QER6LDJSA             1                           1   \n",
       "5     0FEKBQ59AF1LQKJP             1                           1   \n",
       "8     ORJN6I5G6NA6QD0Q             0                           1   \n",
       "9     5JIAFD6132MNPAL9             0                           1   \n",
       "...                ...           ...                         ...   \n",
       "7490  EQM27ASK6HGQHDTB             0                           1   \n",
       "7492  3QIOBBC2TCMCMOM8             0                           1   \n",
       "7494  QSFDKHOHMHRNGS65             1                           1   \n",
       "7495  KP5DR7CTN8CNLG8P             0                           0   \n",
       "7497  O00FTLDT6O803LD0             0                           1   \n",
       "\n",
       "      Profile Text Color R  Profile Text Color G  Profile Text Color B  \\\n",
       "2                     0.12                  0.76                  0.87   \n",
       "4                     0.35                  0.26                  0.30   \n",
       "5                     0.00                  0.49                  0.76   \n",
       "8                     0.96                  0.67                  0.71   \n",
       "9                     0.11                  0.63                  0.95   \n",
       "...                    ...                   ...                   ...   \n",
       "7490                  0.11                  0.63                  0.95   \n",
       "7492                  0.00                  0.52                  0.71   \n",
       "7494                  0.00                  0.52                  0.71   \n",
       "7495                  0.29                  0.03                  0.03   \n",
       "7497                  0.00                  0.52                  0.71   \n",
       "\n",
       "      Profile Page Color R  Profile Page Color G  Profile Page Color B  \\\n",
       "2                     0.94                  0.94                  0.94   \n",
       "4                     0.97                  0.97                  0.97   \n",
       "5                     0.87                  0.93                  0.96   \n",
       "8                     0.88                  0.88                  0.88   \n",
       "9                     0.87                  0.93                  0.96   \n",
       "...                    ...                   ...                   ...   \n",
       "7490                  0.87                  0.93                  0.96   \n",
       "7492                  0.87                  0.93                  0.96   \n",
       "7494                  0.87                  0.93                  0.96   \n",
       "7495                  0.87                  0.93                  0.96   \n",
       "7497                  0.87                  1.00                  0.80   \n",
       "\n",
       "      Profile Theme Color R  ...  39600  46800  Not verified  Pending  \\\n",
       "2                      0.12  ...      0      0             1        0   \n",
       "4                      0.00  ...      0      0             1        0   \n",
       "5                      0.20  ...      0      0             0        0   \n",
       "8                      0.88  ...      0      0             0        0   \n",
       "9                      0.75  ...      0      0             1        0   \n",
       "...                     ...  ...    ...    ...           ...      ...   \n",
       "7490                   0.75  ...      0      0             1        0   \n",
       "7492                   0.75  ...      1      0             0        0   \n",
       "7494                   0.75  ...      0      0             0        0   \n",
       "7495                   0.00  ...      0      0             0        0   \n",
       "7497                   0.00  ...      0      0             0        0   \n",
       "\n",
       "      Verified  business  celebrity  government  unknown  Num of Profile Likes  \n",
       "2            0         0          0           0        1              3.193125  \n",
       "4            0         0          0           0        1              3.033021  \n",
       "5            1         0          1           0        0              2.230449  \n",
       "8            1         0          0           0        1              3.093071  \n",
       "9            0         0          0           1        0              2.722634  \n",
       "...        ...       ...        ...         ...      ...                   ...  \n",
       "7490         0         0          0           0        1              3.820661  \n",
       "7492         1         0          0           0        1              3.388101  \n",
       "7494         1         0          0           0        1              2.588832  \n",
       "7495         1         0          0           0        1              3.137987  \n",
       "7497         1         0          0           0        1              3.092018  \n",
       "\n",
       "[4021 rows x 71 columns]"
      ],
      "text/html": "<div>\n<style scoped>\n    .dataframe tbody tr th:only-of-type {\n        vertical-align: middle;\n    }\n\n    .dataframe tbody tr th {\n        vertical-align: top;\n    }\n\n    .dataframe thead th {\n        text-align: right;\n    }\n</style>\n<table border=\"1\" class=\"dataframe\">\n  <thead>\n    <tr style=\"text-align: right;\">\n      <th></th>\n      <th>Id</th>\n      <th>Personal URL</th>\n      <th>Profile Cover Image Status</th>\n      <th>Profile Text Color R</th>\n      <th>Profile Text Color G</th>\n      <th>Profile Text Color B</th>\n      <th>Profile Page Color R</th>\n      <th>Profile Page Color G</th>\n      <th>Profile Page Color B</th>\n      <th>Profile Theme Color R</th>\n      <th>...</th>\n      <th>39600</th>\n      <th>46800</th>\n      <th>Not verified</th>\n      <th>Pending</th>\n      <th>Verified</th>\n      <th>business</th>\n      <th>celebrity</th>\n      <th>government</th>\n      <th>unknown</th>\n      <th>Num of Profile Likes</th>\n    </tr>\n  </thead>\n  <tbody>\n    <tr>\n      <th>2</th>\n      <td>JS49LP5P72RI1OQB</td>\n      <td>0</td>\n      <td>1</td>\n      <td>0.12</td>\n      <td>0.76</td>\n      <td>0.87</td>\n      <td>0.94</td>\n      <td>0.94</td>\n      <td>0.94</td>\n      <td>0.12</td>\n      <td>...</td>\n      <td>0</td>\n      <td>0</td>\n      <td>1</td>\n      <td>0</td>\n      <td>0</td>\n      <td>0</td>\n      <td>0</td>\n      <td>0</td>\n      <td>1</td>\n      <td>3.193125</td>\n    </tr>\n    <tr>\n      <th>4</th>\n      <td>CRSEMK4QER6LDJSA</td>\n      <td>1</td>\n      <td>1</td>\n      <td>0.35</td>\n      <td>0.26</td>\n      <td>0.30</td>\n      <td>0.97</td>\n      <td>0.97</td>\n      <td>0.97</td>\n      <td>0.00</td>\n      <td>...</td>\n      <td>0</td>\n      <td>0</td>\n      <td>1</td>\n      <td>0</td>\n      <td>0</td>\n      <td>0</td>\n      <td>0</td>\n      <td>0</td>\n      <td>1</td>\n      <td>3.033021</td>\n    </tr>\n    <tr>\n      <th>5</th>\n      <td>0FEKBQ59AF1LQKJP</td>\n      <td>1</td>\n      <td>1</td>\n      <td>0.00</td>\n      <td>0.49</td>\n      <td>0.76</td>\n      <td>0.87</td>\n      <td>0.93</td>\n      <td>0.96</td>\n      <td>0.20</td>\n      <td>...</td>\n      <td>0</td>\n      <td>0</td>\n      <td>0</td>\n      <td>0</td>\n      <td>1</td>\n      <td>0</td>\n      <td>1</td>\n      <td>0</td>\n      <td>0</td>\n      <td>2.230449</td>\n    </tr>\n    <tr>\n      <th>8</th>\n      <td>ORJN6I5G6NA6QD0Q</td>\n      <td>0</td>\n      <td>1</td>\n      <td>0.96</td>\n      <td>0.67</td>\n      <td>0.71</td>\n      <td>0.88</td>\n      <td>0.88</td>\n      <td>0.88</td>\n      <td>0.88</td>\n      <td>...</td>\n      <td>0</td>\n      <td>0</td>\n      <td>0</td>\n      <td>0</td>\n      <td>1</td>\n      <td>0</td>\n      <td>0</td>\n      <td>0</td>\n      <td>1</td>\n      <td>3.093071</td>\n    </tr>\n    <tr>\n      <th>9</th>\n      <td>5JIAFD6132MNPAL9</td>\n      <td>0</td>\n      <td>1</td>\n      <td>0.11</td>\n      <td>0.63</td>\n      <td>0.95</td>\n      <td>0.87</td>\n      <td>0.93</td>\n      <td>0.96</td>\n      <td>0.75</td>\n      <td>...</td>\n      <td>0</td>\n      <td>0</td>\n      <td>1</td>\n      <td>0</td>\n      <td>0</td>\n      <td>0</td>\n      <td>0</td>\n      <td>1</td>\n      <td>0</td>\n      <td>2.722634</td>\n    </tr>\n    <tr>\n      <th>...</th>\n      <td>...</td>\n      <td>...</td>\n      <td>...</td>\n      <td>...</td>\n      <td>...</td>\n      <td>...</td>\n      <td>...</td>\n      <td>...</td>\n      <td>...</td>\n      <td>...</td>\n      <td>...</td>\n      <td>...</td>\n      <td>...</td>\n      <td>...</td>\n      <td>...</td>\n      <td>...</td>\n      <td>...</td>\n      <td>...</td>\n      <td>...</td>\n      <td>...</td>\n      <td>...</td>\n    </tr>\n    <tr>\n      <th>7490</th>\n      <td>EQM27ASK6HGQHDTB</td>\n      <td>0</td>\n      <td>1</td>\n      <td>0.11</td>\n      <td>0.63</td>\n      <td>0.95</td>\n      <td>0.87</td>\n      <td>0.93</td>\n      <td>0.96</td>\n      <td>0.75</td>\n      <td>...</td>\n      <td>0</td>\n      <td>0</td>\n      <td>1</td>\n      <td>0</td>\n      <td>0</td>\n      <td>0</td>\n      <td>0</td>\n      <td>0</td>\n      <td>1</td>\n      <td>3.820661</td>\n    </tr>\n    <tr>\n      <th>7492</th>\n      <td>3QIOBBC2TCMCMOM8</td>\n      <td>0</td>\n      <td>1</td>\n      <td>0.00</td>\n      <td>0.52</td>\n      <td>0.71</td>\n      <td>0.87</td>\n      <td>0.93</td>\n      <td>0.96</td>\n      <td>0.75</td>\n      <td>...</td>\n      <td>1</td>\n      <td>0</td>\n      <td>0</td>\n      <td>0</td>\n      <td>1</td>\n      <td>0</td>\n      <td>0</td>\n      <td>0</td>\n      <td>1</td>\n      <td>3.388101</td>\n    </tr>\n    <tr>\n      <th>7494</th>\n      <td>QSFDKHOHMHRNGS65</td>\n      <td>1</td>\n      <td>1</td>\n      <td>0.00</td>\n      <td>0.52</td>\n      <td>0.71</td>\n      <td>0.87</td>\n      <td>0.93</td>\n      <td>0.96</td>\n      <td>0.75</td>\n      <td>...</td>\n      <td>0</td>\n      <td>0</td>\n      <td>0</td>\n      <td>0</td>\n      <td>1</td>\n      <td>0</td>\n      <td>0</td>\n      <td>0</td>\n      <td>1</td>\n      <td>2.588832</td>\n    </tr>\n    <tr>\n      <th>7495</th>\n      <td>KP5DR7CTN8CNLG8P</td>\n      <td>0</td>\n      <td>0</td>\n      <td>0.29</td>\n      <td>0.03</td>\n      <td>0.03</td>\n      <td>0.87</td>\n      <td>0.93</td>\n      <td>0.96</td>\n      <td>0.00</td>\n      <td>...</td>\n      <td>0</td>\n      <td>0</td>\n      <td>0</td>\n      <td>0</td>\n      <td>1</td>\n      <td>0</td>\n      <td>0</td>\n      <td>0</td>\n      <td>1</td>\n      <td>3.137987</td>\n    </tr>\n    <tr>\n      <th>7497</th>\n      <td>O00FTLDT6O803LD0</td>\n      <td>0</td>\n      <td>1</td>\n      <td>0.00</td>\n      <td>0.52</td>\n      <td>0.71</td>\n      <td>0.87</td>\n      <td>1.00</td>\n      <td>0.80</td>\n      <td>0.00</td>\n      <td>...</td>\n      <td>0</td>\n      <td>0</td>\n      <td>0</td>\n      <td>0</td>\n      <td>1</td>\n      <td>0</td>\n      <td>0</td>\n      <td>0</td>\n      <td>1</td>\n      <td>3.092018</td>\n    </tr>\n  </tbody>\n</table>\n<p>4021 rows × 71 columns</p>\n</div>"
     },
     "metadata": {},
     "execution_count": 20
    }
   ],
   "source": [
    "df_train"
   ]
  },
  {
   "cell_type": "code",
   "execution_count": 21,
   "metadata": {
    "id": "zexhK_m4EtdS"
   },
   "outputs": [],
   "source": [
    "if generateTrain :\n",
    "  df_train.to_pickle(\"train_cleaned.pkl\")\n",
    "  df_train.to_csv(\"train_cleaned.csv\")\n",
    "\n",
    "if generateTest :\n",
    "  df_train.to_pickle(\"test_cleaned.pkl\")\n",
    "  df_train.to_csv(\"test_cleaned.csv\")"
   ]
  }
 ],
 "metadata": {
  "colab": {
   "collapsed_sections": [],
   "name": "data_cleaner.ipynb",
   "provenance": [],
   "toc_visible": true
  },
  "kernelspec": {
   "display_name": "Python 3",
   "language": "python",
   "name": "python3"
  },
  "language_info": {
   "codemirror_mode": {
    "name": "ipython",
    "version": 3
   },
   "file_extension": ".py",
   "mimetype": "text/x-python",
   "name": "python",
   "nbconvert_exporter": "python",
   "pygments_lexer": "ipython3",
   "version": "3.6.9-final"
  }
 },
 "nbformat": 4,
 "nbformat_minor": 1
}